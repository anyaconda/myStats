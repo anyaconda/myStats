{
 "cells": [
  {
   "cell_type": "code",
   "execution_count": 1,
   "metadata": {},
   "outputs": [],
   "source": [
    "#meta 3/27 Spearman's Rank-Order Correlation\n",
    "#references\n",
    "#https://statistics.laerd.com/statistical-guides/spearmans-rank-order-correlation-statistical-guide.php\n",
    "#https://machinelearningmastery.com/how-to-calculate-nonparametric-rank-correlation-in-python/"
   ]
  },
  {
   "cell_type": "code",
   "execution_count": 2,
   "metadata": {},
   "outputs": [],
   "source": [
    "import numpy as np\n",
    "import matplotlib.pyplot as plt\n",
    "from scipy.stats import spearmanr\n",
    "import scipy.stats as ss\n"
   ]
  },
  {
   "cell_type": "markdown",
   "metadata": {},
   "source": [
    "# Spearman's Rank-Order Correlation\n",
    "aka Spearman's Correlation Coefficient\n",
    "\n",
    "A statistical procedure that is designed to measure the strength and direction of monotonic association between two ranked variables. Monotonic means an increasing or decreasing relationship.  Monotonicity is \"less restrictive\" than that of a linear relationship. For example, the middle image above shows a relationship that is monotonic, but not linear.\n",
    "\n",
    "![Monotonic Relationship](images/monotonic.png)\n",
    "\n",
    "https://machinelearningmastery.com/how-to-calculate-nonparametric-rank-correlation-in-python/  \n",
    "The intuition for the Spearman’s rank correlation is that it calculates a Pearson’s correlation (e.g. a parametric measure of correlation) using the rank values instead of the real values. Where the Pearson’s correlation is the calculation of the covariance (or expected difference of observations from the mean) between the two variables normalized by the variance or spread of both variables.\n",
    "\n",
    "Spearman’s rank correlation can be calculated in Python using the `spearmanr() SciPy function`:\n",
    "> coef, p = spearmanr(data1, data2)  \n",
    "Returns both the correlation coefficient in the range between -1 and 1 and the p-value for interpreting the significance of the coefficient."
   ]
  },
  {
   "cell_type": "markdown",
   "metadata": {},
   "source": [
    "## 1. Spearman's correlation without tied ranks\n",
    "#### Definition\n",
    "- without tied ranks\n",
    "![Formula 1](images/rho_no_tied_ranks.jpg)\n"
   ]
  },
  {
   "cell_type": "code",
   "execution_count": 3,
   "metadata": {},
   "outputs": [],
   "source": [
    "#sample input without identical scores\n",
    "x1 = np.array([56,75,45,71,62,64,58,80,76,61])\n",
    "x2 = np.array([66,70,40,60,65,56,59,77,67,63])\n"
   ]
  },
  {
   "cell_type": "code",
   "execution_count": 4,
   "metadata": {},
   "outputs": [
    {
     "name": "stdout",
     "output_type": "stream",
     "text": [
      "Spearmans correlation coefficient: 0.6727\n",
      "Samples are correlated (reject H0) p=0.0330\n"
     ]
    }
   ],
   "source": [
    "# calculate spearman's correlation with Scipy\n",
    "coef, p = spearmanr(x1, x2)\n",
    "print('Spearmans correlation coefficient: %.4f' % coef)\n",
    "# interpret the significance\n",
    "alpha = 0.05\n",
    "if p > alpha:\n",
    "    print('Samples are uncorrelated (fail to reject H0) p=%.4f' % p)\n",
    "else:\n",
    "    print('Samples are correlated (reject H0) p=%.4f' % p)"
   ]
  },
  {
   "cell_type": "markdown",
   "metadata": {},
   "source": [
    "### my Rho"
   ]
  },
  {
   "cell_type": "code",
   "execution_count": 5,
   "metadata": {},
   "outputs": [
    {
     "data": {
      "image/png": "[encoded data removed]",
      "text/plain": [
       "<Figure size 432x288 with 1 Axes>"
      ]
     },
     "metadata": {
      "needs_background": "light"
     },
     "output_type": "display_data"
    }
   ],
   "source": [
    "#visualize\n",
    "plt.scatter(x1,x2);\n",
    "plt.title(\"Input Variables\");"
   ]
  },
  {
   "cell_type": "code",
   "execution_count": 6,
   "metadata": {},
   "outputs": [
    {
     "data": {
      "image/png": "[encoded data removed]",
      "text/plain": [
       "<Figure size 432x288 with 1 Axes>"
      ]
     },
     "metadata": {
      "needs_background": "light"
     },
     "output_type": "display_data"
    }
   ],
   "source": [
    "#vis ordered\n",
    "plt.scatter(sorted(x1),sorted(x2));\n",
    "plt.title(\"Ordered Variables\");"
   ]
  },
  {
   "cell_type": "markdown",
   "metadata": {},
   "source": [
    "#### Rank data\n",
    "from highes to lowest, no identical scores => no tie"
   ]
  },
  {
   "cell_type": "code",
   "execution_count": 7,
   "metadata": {},
   "outputs": [
    {
     "data": {
      "text/plain": [
       "(array([ 9.,  3., 10.,  4.,  6.,  5.,  8.,  1.,  2.,  7.]),\n",
       " array([ 4.,  2., 10.,  7.,  5.,  9.,  8.,  1.,  3.,  6.]))"
      ]
     },
     "execution_count": 7,
     "metadata": {},
     "output_type": "execute_result"
    }
   ],
   "source": [
    "#need to rank\n",
    "#ss.rankdata(x1), len(x1)+1 - ss.rankdata(x1)\n",
    "\n",
    "x1_ranked = len(x1)+1 - ss.rankdata(x1)\n",
    "x2_ranked = len(x2)+1 - ss.rankdata(x2)\n",
    "\n",
    "x1_ranked, x2_ranked"
   ]
  },
  {
   "cell_type": "code",
   "execution_count": 8,
   "metadata": {},
   "outputs": [
    {
     "data": {
      "text/plain": [
       "([1.0, 2.0, 3.0, 4.0, 5.0, 6.0, 7.0, 8.0, 9.0, 10.0],\n",
       " [1.0, 2.0, 3.0, 4.0, 5.0, 6.0, 7.0, 8.0, 9.0, 10.0])"
      ]
     },
     "execution_count": 8,
     "metadata": {},
     "output_type": "execute_result"
    }
   ],
   "source": [
    "sorted(x1_ranked), sorted(x2_ranked)"
   ]
  },
  {
   "cell_type": "code",
   "execution_count": 9,
   "metadata": {},
   "outputs": [
    {
     "data": {
      "image/png": "[encoded data removed]",
      "text/plain": [
       "<Figure size 432x288 with 1 Axes>"
      ]
     },
     "metadata": {
      "needs_background": "light"
     },
     "output_type": "display_data"
    }
   ],
   "source": [
    "#vis ranked\n",
    "plt.scatter(sorted(x1_ranked), sorted(x2_ranked));\n",
    "plt.title(\"Sorted Ranked Variables\");"
   ]
  },
  {
   "cell_type": "code",
   "execution_count": 10,
   "metadata": {},
   "outputs": [
    {
     "data": {
      "text/plain": [
       "0.6727272727272727"
      ]
     },
     "execution_count": 10,
     "metadata": {},
     "output_type": "execute_result"
    }
   ],
   "source": [
    "# manually: Spearman's correlation without tied ranks\n",
    "def rho1(x1,x2) -> np.float32:\n",
    "    \n",
    "    _n = len(x1)\n",
    "    \n",
    "    #rank input vars\n",
    "    _x1_rank = len(x1)+1 - ss.rankdata(x1)\n",
    "    _x2_rank = len(x2)+1 - ss.rankdata(x2)\n",
    "    #print(_x1_rank, _x2_rank)\n",
    "    \n",
    "    #calc distance, squared distance\n",
    "    _d = _x1_rank - _x2_rank\n",
    "    _d_sqrd = _d**2\n",
    "    #print(_d, _d_sqrd, _d_sqrd.sum())\n",
    "    \n",
    "    nom = 6 * _d_sqrd.sum()\n",
    "    denom = _n * (_n**2 -1)\n",
    "    #print(nom, denom)\n",
    "    \n",
    "    return (1 - (nom/denom))\n",
    "\n",
    "rho1(x1,x2)"
   ]
  },
  {
   "cell_type": "markdown",
   "metadata": {},
   "source": [
    "## 2. Spearman's correlation with tied ranks\n",
    "#### Definition\n",
    "- with tied ranks\n",
    "![Formula 2](images/rho_tied_ranks.jpg)"
   ]
  },
  {
   "cell_type": "code",
   "execution_count": 11,
   "metadata": {},
   "outputs": [],
   "source": [
    "#sample input with identical scores\n",
    "x1 = np.array([56,75,45,71,61,64,58,80,76,61])\n",
    "x2 = np.array([66,70,40,60,65,56,59,77,67,63])\n"
   ]
  },
  {
   "cell_type": "code",
   "execution_count": 12,
   "metadata": {},
   "outputs": [
    {
     "name": "stdout",
     "output_type": "stream",
     "text": [
      "Spearmans correlation coefficient: 0.6687\n",
      "Samples are correlated (reject H0) p=0.0345\n"
     ]
    }
   ],
   "source": [
    "# calculate spearman's correlation with Scipy\n",
    "coef, p = spearmanr(x1, x2)\n",
    "print('Spearmans correlation coefficient: %.4f' % coef)\n",
    "# interpret the significance\n",
    "alpha = 0.05\n",
    "if p > alpha:\n",
    "    print('Samples are uncorrelated (fail to reject H0) p=%.4f' % p)\n",
    "else:\n",
    "    print('Samples are correlated (reject H0) p=%.4f' % p)"
   ]
  },
  {
   "cell_type": "markdown",
   "metadata": {},
   "source": [
    "### my Rho"
   ]
  },
  {
   "cell_type": "code",
   "execution_count": 13,
   "metadata": {},
   "outputs": [
    {
     "data": {
      "image/png": "[encoded data removed]",
      "text/plain": [
       "<Figure size 432x288 with 1 Axes>"
      ]
     },
     "metadata": {
      "needs_background": "light"
     },
     "output_type": "display_data"
    }
   ],
   "source": [
    "#visualize\n",
    "plt.scatter(x1,x2);\n",
    "plt.title(\"Input Variables\");"
   ]
  },
  {
   "cell_type": "code",
   "execution_count": 14,
   "metadata": {},
   "outputs": [
    {
     "data": {
      "image/png": "[encoded data removed]",
      "text/plain": [
       "<Figure size 432x288 with 1 Axes>"
      ]
     },
     "metadata": {
      "needs_background": "light"
     },
     "output_type": "display_data"
    }
   ],
   "source": [
    "#vis ordered\n",
    "plt.scatter(sorted(x1),sorted(x2));\n",
    "plt.title(\"Ordered Variables\");"
   ]
  },
  {
   "cell_type": "markdown",
   "metadata": {},
   "source": [
    "#### Rank data\n",
    "from highes to lowest, tie for identical scores"
   ]
  },
  {
   "cell_type": "code",
   "execution_count": 15,
   "metadata": {},
   "outputs": [
    {
     "data": {
      "text/plain": [
       "(array([ 9. ,  3. , 10. ,  4. ,  6.5,  5. ,  8. ,  1. ,  2. ,  6.5]),\n",
       " array([ 4.,  2., 10.,  7.,  5.,  9.,  8.,  1.,  3.,  6.]))"
      ]
     },
     "execution_count": 15,
     "metadata": {},
     "output_type": "execute_result"
    }
   ],
   "source": [
    "#need to rank\n",
    "#ss.rankdata(x1), len(x1)+1 - ss.rankdata(x1)\n",
    "\n",
    "x1_ranked = len(x1)+1 - ss.rankdata(x1)\n",
    "x2_ranked = len(x2)+1 - ss.rankdata(x2)\n",
    "\n",
    "x1_ranked, x2_ranked"
   ]
  },
  {
   "cell_type": "code",
   "execution_count": 16,
   "metadata": {},
   "outputs": [
    {
     "data": {
      "text/plain": [
       "([1.0, 2.0, 3.0, 4.0, 5.0, 6.5, 6.5, 8.0, 9.0, 10.0],\n",
       " [1.0, 2.0, 3.0, 4.0, 5.0, 6.0, 7.0, 8.0, 9.0, 10.0])"
      ]
     },
     "execution_count": 16,
     "metadata": {},
     "output_type": "execute_result"
    }
   ],
   "source": [
    "sorted(x1_ranked), sorted(x2_ranked)"
   ]
  },
  {
   "cell_type": "code",
   "execution_count": 17,
   "metadata": {},
   "outputs": [
    {
     "data": {
      "text/plain": [
       "Text(0.5, 1.0, 'Sorted Ranked Variables')"
      ]
     },
     "execution_count": 17,
     "metadata": {},
     "output_type": "execute_result"
    },
    {
     "data": {
      "image/png": "[encoded data removed]",
      "text/plain": [
       "<Figure size 432x288 with 1 Axes>"
      ]
     },
     "metadata": {
      "needs_background": "light"
     },
     "output_type": "display_data"
    }
   ],
   "source": [
    "#vis ranked\n",
    "plt.scatter(sorted(x1_ranked), sorted(x2_ranked));\n",
    "plt.title(\"Sorted Ranked Variables\")"
   ]
  },
  {
   "cell_type": "code",
   "execution_count": 18,
   "metadata": {},
   "outputs": [
    {
     "data": {
      "text/plain": [
       "0.6686960980480711"
      ]
     },
     "execution_count": 18,
     "metadata": {},
     "output_type": "execute_result"
    }
   ],
   "source": [
    "def rho2(x1,x2) -> np.float32:\n",
    "    #rank input vars\n",
    "    _x1_rank = len(x1)+1 - ss.rankdata(x1)\n",
    "    _x2_rank = len(x2)+1 - ss.rankdata(x2)\n",
    "    #print(_x1_rank, _x2_rank)\n",
    "    \n",
    "    #calc mean ranking\n",
    "    _mean_x1_rank = _x1_rank.mean()\n",
    "    _mean_x2_rank = _x2_rank.mean()\n",
    "    #print(_mean_x1_rank, _mean_x2_rank)\n",
    "    \n",
    "    #calc distance (rank - mean rank)\n",
    "    _d_x1 = _x1_rank - _mean_x1_rank\n",
    "    _d_x2 = _x2_rank - _mean_x2_rank\n",
    "    #print(_d_x1, _d_x2)\n",
    "    \n",
    "    #nominator\n",
    "    nom = (_d_x1 * _d_x2).sum()\n",
    "    #denominator\n",
    "    denom = np.sqrt((_d_x1**2).sum() * (_d_x2**2).sum())\n",
    "    #print(nom, denom)\n",
    "    \n",
    "    return nom / denom\n",
    "\n",
    "rho2(x1,x2)"
   ]
  },
  {
   "cell_type": "markdown",
   "metadata": {},
   "source": [
    "## 3. Interpreation\n",
    "The statistical test reports a positive correlation with a value of 0.67. The p-value is lower than `alpha=0.05`, which means that the likelihood of observing the data given that the samples are uncorrelated is unlikely (e.g. 95% confidence) and that we can reject the null hypothesis that the samples are uncorrelated."
   ]
  },
  {
   "cell_type": "code",
   "execution_count": null,
   "metadata": {},
   "outputs": [],
   "source": []
  }
 ],
 "metadata": {
  "kernelspec": {
   "display_name": "Python 3",
   "language": "python",
   "name": "python3"
  },
  "language_info": {
   "codemirror_mode": {
    "name": "ipython",
    "version": 3
   },
   "file_extension": ".py",
   "mimetype": "text/x-python",
   "name": "python",
   "nbconvert_exporter": "python",
   "pygments_lexer": "ipython3",
   "version": "3.8.3"
  }
 },
 "nbformat": 4,
 "nbformat_minor": 4
}
