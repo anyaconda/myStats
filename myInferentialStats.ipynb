{
 "cells": [
  {
   "cell_type": "markdown",
   "metadata": {},
   "source": [
    "## Inferential Statistics"
   ]
  },
  {
   "cell_type": "code",
   "execution_count": 1,
   "metadata": {},
   "outputs": [],
   "source": [
    "#meta 9/12/2018\n",
    "#Normal distribution - estimates, PDF (probability density function) and plots"
   ]
  },
  {
   "cell_type": "code",
   "execution_count": 2,
   "metadata": {},
   "outputs": [],
   "source": [
    "import math\n",
    "import pandas as pd\n",
    "import numpy as np\n",
    "#from scipy import stats\n",
    "import scipy.stats as stats\n",
    "import matplotlib.pyplot as plt"
   ]
  },
  {
   "cell_type": "markdown",
   "metadata": {},
   "source": [
    "### Normal Distribution\n",
    "source: http://wade.dbsdataprojects.com/2016/03/24/using-excel-r-python-for-checking-normal-distribution/\n",
    "\n",
    "The normal distribution with μ = 0 and σ = 1\n",
    "is called the standard normal distribution, and is denoted as N(0,1).\n",
    "\n",
    "The normal distribution is important because of the Central Limit\n",
    "Theorem, which states that the population of all possible samples\n",
    "of size n from a population with μ = 0 and variance σ = 1\n",
    "approaches a normal distribution with mean μ and variance σ2/n\n",
    "when n approaches infinity.\n",
    "\n",
    "\n",
    "### i.e. Estimate students scoring 84+ on GRE\n",
    "Problem:  \n",
    "Assume results of a college entrance exam fit a normal distribution,\n",
    "such that the mean test score is 72, and the standard deviation is 15.2.\n",
    "What is the percentage of students scoring 84 or more in the exam?\n",
    "\n",
    "Paper:  \n",
    "calculate z-score (84-72)/15.2 = .7894  \n",
    "lookup % of values between mu and z around .2881  \n",
    "sketched a bell curve, shaded area between 0 and .2881 (before 1 std dev)  \n",
    "compute area beyond 84 score: 0.5 - .2881 = around .21 or .22\n",
    "\n",
    "Solution:  \n",
    "We apply the function pnorm (R) of the normal distribution\n",
    "with mean 72 and standard deviation 15.2.\n",
    "Concentrating on the percentage of students scoring higher than 84,\n",
    "we are interested in the upper tail of the normal distribution."
   ]
  },
  {
   "cell_type": "code",
   "execution_count": 3,
   "metadata": {},
   "outputs": [
    {
     "name": "stdout",
     "output_type": "stream",
     "text": [
      "0.019218761605975455\n"
     ]
    }
   ],
   "source": [
    "cutOffPoint = 84\n",
    "mean = 72\n",
    "stDev = 15.2\n",
    "\n",
    "#manually calculate prob at point\n",
    "def probability(cutOffPoint):\n",
    "    fraction = 1 / ( (stDev) * (math.sqrt(2*math.pi)) )\n",
    "    exponential = math.exp( -( (cutOffPoint - mean)**2) / ( 2 * (stDev**2) ) )\n",
    "    result = fraction * exponential\n",
    "    return result\n",
    "\n",
    "print(probability(cutOffPoint))"
   ]
  },
  {
   "cell_type": "code",
   "execution_count": 4,
   "metadata": {},
   "outputs": [
    {
     "name": "stdout",
     "output_type": "stream",
     "text": [
      "manual calculation  0.2232332750433743\n",
      "roounding error perhaps...\n"
     ]
    }
   ],
   "source": [
    "## upper tail\n",
    "answer = 0\n",
    "while cutOffPoint < (mean + 3*stDev):\n",
    "    result = probability(cutOffPoint)\n",
    "    answer += result\n",
    "    cutOffPoint += 1\n",
    "\n",
    "print('manual calculation ', answer)\n",
    "print('roounding error perhaps...')\n",
    "\n"
   ]
  },
  {
   "cell_type": "code",
   "execution_count": 5,
   "metadata": {},
   "outputs": [
    {
     "name": "stdout",
     "output_type": "stream",
     "text": [
      "calculation with scipy - no rounding error\n",
      "CDF up to the point\n",
      "0.7850823976887276\n",
      "CDF after the point\n",
      "0.21491760231127244\n"
     ]
    }
   ],
   "source": [
    "## reset cut-off point\n",
    "cutOffPoint = 84\n",
    "print('calculation with scipy - no rounding error')\n",
    "print('CDF up to the point')\n",
    "print (stats.norm(mean, stDev).cdf(cutOffPoint))\n",
    "print('CDF after the point')\n",
    "print( 1 - (stats.norm(mean, stDev).cdf(cutOffPoint)) )"
   ]
  },
  {
   "cell_type": "code",
   "execution_count": 6,
   "metadata": {},
   "outputs": [
    {
     "name": "stdout",
     "output_type": "stream",
     "text": [
      "What is the percentage of students scoring 84 or more in the exam?\n"
     ]
    },
    {
     "data": {
      "text/plain": [
       "0.21491760231127244"
      ]
     },
     "execution_count": 6,
     "metadata": {},
     "output_type": "execute_result"
    }
   ],
   "source": [
    "#What is the percentage of students scoring 84 or more in the exam?\n",
    "print ('What is the percentage of students scoring 84 or more in the exam?')\n",
    "1 - stats.norm(mean, stDev).cdf(cutOffPoint)"
   ]
  },
  {
   "cell_type": "markdown",
   "metadata": {},
   "source": [
    "Consider the following R code:\n",
    "\n",
    "dnorm(84, mean = 72, sd = 15.2)  # output 0.0192187  \n",
    "pnorm(84, mean = 72, sd = 15.2, lower.tail = FALSE) # output 0.2149176\n",
    "\n",
    "Answer:\n",
    "The percentage of students scoring 84 or more in the college entrance exam is 21.5%."
   ]
  },
  {
   "cell_type": "markdown",
   "metadata": {},
   "source": [
    "### My Plot\n",
    "Visualise a sample with 100 scores\n",
    "\n",
    "Reference  \n",
    "https://docs.scipy.org/doc/scipy/reference/generated/scipy.stats.norm.html\n",
    "\n",
    "[Plotting Distributions with matplotlib and scipy](https://emredjan.github.io/blog/2017/07/19/plotting-distributions/)\n",
    "\n",
    "Step 0.  Manually calculate PDF  \n",
    "Notice don't need individual scores, because normal distribution parameters give us all the info needed to plot PDF."
   ]
  },
  {
   "cell_type": "code",
   "execution_count": 7,
   "metadata": {},
   "outputs": [
    {
     "data": {
      "image/png": "[encoded data removed]",
      "text/plain": [
       "<Figure size 432x288 with 1 Axes>"
      ]
     },
     "metadata": {},
     "output_type": "display_data"
    }
   ],
   "source": [
    "mu = mean\n",
    "sigma = stDev\n",
    "x = np.linspace(mu - 3*sigma, mu + 3*sigma, 100)\n",
    "#was x = np.linspace(stats.norm.ppf(0.01), stats.norm.ppf(0.99), 100)\n",
    "\n",
    "#manually calculate y, which is normal pdf\n",
    "y = (1 / (np.sqrt(2 * np.pi * np.power(sigma, 2)))) * \\\n",
    "    (np.power(np.e, -(np.power((x - mu), 2) / (2 * np.power(sigma, 2)))))\n",
    "#alternative way to compute pdf\n",
    "#y = (1 / ( sigma * (np.sqrt(2 * np.pi)))) * (np.power(np.e, -(np.power((x - mu), 2) / (2 * np.power(sigma, 2)))))\n",
    "\n",
    "#plot\n",
    "plt.plot(x, y);"
   ]
  },
  {
   "cell_type": "markdown",
   "metadata": {},
   "source": [
    "Step 1. Use scipy.stats  \n",
    "Generate random scores and plot their histogram (counts) to later compare with PDF plot.  \n",
    "Note: using small n=100 for display purposes only.  Totally aware that larger n results in better estimates."
   ]
  },
  {
   "cell_type": "code",
   "execution_count": 8,
   "metadata": {},
   "outputs": [
    {
     "name": "stdout",
     "output_type": "stream",
     "text": [
      "Random scores: \n",
      " [103.15472406  77.0378995   93.30087448  91.70309054  67.88017676\n",
      "  73.52016536  76.53492089  61.07914299  84.50387819  70.84805478\n",
      "  89.19384695  73.02043165  69.36427821  60.84902434  53.41430941\n",
      "  66.26721234  45.58144305  58.28622879  80.45895813  44.45499566\n",
      "  67.0761483   67.59370113  88.17029766  64.93315934  77.5589836\n",
      "  90.26373614  86.30932529  84.74064164  80.72289375  56.87027299\n",
      "  61.30588211  73.42246463  82.32547163  67.56200115  47.48213702\n",
      "  91.53572086  60.30064324  61.50866364  68.78726814  75.75486586\n",
      "  88.60289585  56.45719936  70.26054274  56.93304625  65.66413901\n",
      "  83.02271479  82.9969983   56.78718352  50.20804489  54.64532368\n",
      "  76.44080555  66.40765381  67.20514822  72.07857423  58.65127367\n",
      "  92.11027295  43.39247213  50.67008814  55.99668868  65.41730344\n",
      "  86.64903403  73.39932845  71.61705828  52.53807715  66.85209241\n",
      "  65.45238723  64.79750029  45.88843004  59.66703842  77.10493902\n",
      "  75.37309095  62.40100009  83.43504802  65.27802232  92.9734037\n",
      "  75.25208653  67.20364352  66.91094012  61.24931837  56.52113987\n",
      "  96.19468805  71.76324281  93.27711792  59.05423249  70.18853759\n",
      "  68.45436889  76.15944483  56.66910238  53.77678616  85.58268096\n",
      "  79.85832582 103.22739606  65.724472    72.40762211  65.00565397\n",
      "  81.82141187  61.20169708  65.22938103  63.71783552  90.71362848]\n"
     ]
    },
    {
     "data": {
      "text/plain": [
       "(array([ 5.,  6., 17., 19., 14., 12., 10.,  8.,  7.,  2.]),\n",
       " array([ 43.39247213,  49.37596453,  55.35945692,  61.34294931,\n",
       "         67.3264417 ,  73.3099341 ,  79.29342649,  85.27691888,\n",
       "         91.26041128,  97.24390367, 103.22739606]),\n",
       " <a list of 10 Patch objects>)"
      ]
     },
     "execution_count": 8,
     "metadata": {},
     "output_type": "execute_result"
    },
    {
     "data": {
      "image/png": "[encoded data removed]",
      "text/plain": [
       "<Figure size 432x288 with 1 Axes>"
      ]
     },
     "metadata": {},
     "output_type": "display_data"
    }
   ],
   "source": [
    "#generate random numbers\n",
    "myNormal = stats.norm(mu,sigma)\n",
    "random_scores = myNormal.rvs(size=100)\n",
    "\n",
    "print ('Random scores: \\n', random_scores)\n",
    "\n",
    "#plot random scores\n",
    "\n",
    "plt.hist(random_scores, density=False)"
   ]
  },
  {
   "cell_type": "markdown",
   "metadata": {},
   "source": [
    "### Draw Histogram and PDF"
   ]
  },
  {
   "cell_type": "code",
   "execution_count": 9,
   "metadata": {},
   "outputs": [
    {
     "data": {
      "image/png": "[encoded data removed]",
      "text/plain": [
       "<Figure size 432x288 with 1 Axes>"
      ]
     },
     "metadata": {},
     "output_type": "display_data"
    }
   ],
   "source": [
    "fig, ax = plt.subplots(1, 1)\n",
    "#draw histogram\n",
    "ax.hist(random_scores, density=True, histtype='stepfilled', alpha=0.2)\n",
    "\n",
    "#display the pdf\n",
    "ax.plot(x, myNormal.pdf(x), 'r-', lw=2) #, label='frozen pdf'\n",
    "plt.show()\n"
   ]
  },
  {
   "cell_type": "markdown",
   "metadata": {},
   "source": [
    "### Xtra\n",
    "Notice that manually calculated PDF y == myNormal.pdf(x)"
   ]
  },
  {
   "cell_type": "code",
   "execution_count": 10,
   "metadata": {},
   "outputs": [
    {
     "data": {
      "text/plain": [
       "array([0.00029157, 0.00034907, 0.00041637, 0.00049482, 0.00058591,\n",
       "       0.00069122, 0.00081246, 0.00095147, 0.00111019, 0.00129062,\n",
       "       0.00149488, 0.00172512, 0.00198353, 0.00227227, 0.00259351,\n",
       "       0.00294931, 0.00334162, 0.00377224, 0.00424273, 0.00475441,\n",
       "       0.00530827, 0.00590492, 0.00654455, 0.00722687, 0.00795107,\n",
       "       0.00871577, 0.00951898, 0.0103581 , 0.01122987, 0.01213037,\n",
       "       0.01305504, 0.01399868, 0.01495549, 0.01591913, 0.01688272,\n",
       "       0.017839  , 0.01878034, 0.01969886, 0.02058655, 0.02143536,\n",
       "       0.02223734, 0.02298475, 0.02367017, 0.02428666, 0.02482784,\n",
       "       0.02528803, 0.02566232, 0.02594666, 0.02613797, 0.02623415,\n",
       "       0.02623415, 0.02613797, 0.02594666, 0.02566232, 0.02528803,\n",
       "       0.02482784, 0.02428666, 0.02367017, 0.02298475, 0.02223734,\n",
       "       0.02143536, 0.02058655, 0.01969886, 0.01878034, 0.017839  ,\n",
       "       0.01688272, 0.01591913, 0.01495549, 0.01399868, 0.01305504,\n",
       "       0.01213037, 0.01122987, 0.0103581 , 0.00951898, 0.00871577,\n",
       "       0.00795107, 0.00722687, 0.00654455, 0.00590492, 0.00530827,\n",
       "       0.00475441, 0.00424273, 0.00377224, 0.00334162, 0.00294931,\n",
       "       0.00259351, 0.00227227, 0.00198353, 0.00172512, 0.00149488,\n",
       "       0.00129062, 0.00111019, 0.00095147, 0.00081246, 0.00069122,\n",
       "       0.00058591, 0.00049482, 0.00041637, 0.00034907, 0.00029157])"
      ]
     },
     "execution_count": 10,
     "metadata": {},
     "output_type": "execute_result"
    }
   ],
   "source": [
    "y"
   ]
  },
  {
   "cell_type": "code",
   "execution_count": 11,
   "metadata": {},
   "outputs": [
    {
     "data": {
      "text/plain": [
       "array([0.00029157, 0.00034907, 0.00041637, 0.00049482, 0.00058591,\n",
       "       0.00069122, 0.00081246, 0.00095147, 0.00111019, 0.00129062,\n",
       "       0.00149488, 0.00172512, 0.00198353, 0.00227227, 0.00259351,\n",
       "       0.00294931, 0.00334162, 0.00377224, 0.00424273, 0.00475441,\n",
       "       0.00530827, 0.00590492, 0.00654455, 0.00722687, 0.00795107,\n",
       "       0.00871577, 0.00951898, 0.0103581 , 0.01122987, 0.01213037,\n",
       "       0.01305504, 0.01399868, 0.01495549, 0.01591913, 0.01688272,\n",
       "       0.017839  , 0.01878034, 0.01969886, 0.02058655, 0.02143536,\n",
       "       0.02223734, 0.02298475, 0.02367017, 0.02428666, 0.02482784,\n",
       "       0.02528803, 0.02566232, 0.02594666, 0.02613797, 0.02623415,\n",
       "       0.02623415, 0.02613797, 0.02594666, 0.02566232, 0.02528803,\n",
       "       0.02482784, 0.02428666, 0.02367017, 0.02298475, 0.02223734,\n",
       "       0.02143536, 0.02058655, 0.01969886, 0.01878034, 0.017839  ,\n",
       "       0.01688272, 0.01591913, 0.01495549, 0.01399868, 0.01305504,\n",
       "       0.01213037, 0.01122987, 0.0103581 , 0.00951898, 0.00871577,\n",
       "       0.00795107, 0.00722687, 0.00654455, 0.00590492, 0.00530827,\n",
       "       0.00475441, 0.00424273, 0.00377224, 0.00334162, 0.00294931,\n",
       "       0.00259351, 0.00227227, 0.00198353, 0.00172512, 0.00149488,\n",
       "       0.00129062, 0.00111019, 0.00095147, 0.00081246, 0.00069122,\n",
       "       0.00058591, 0.00049482, 0.00041637, 0.00034907, 0.00029157])"
      ]
     },
     "execution_count": 11,
     "metadata": {},
     "output_type": "execute_result"
    }
   ],
   "source": [
    "myNormal.pdf(x)"
   ]
  },
  {
   "cell_type": "code",
   "execution_count": null,
   "metadata": {},
   "outputs": [],
   "source": []
  }
 ],
 "metadata": {
  "kernelspec": {
   "display_name": "Python 3",
   "language": "python",
   "name": "python3"
  },
  "language_info": {
   "codemirror_mode": {
    "name": "ipython",
    "version": 3
   },
   "file_extension": ".py",
   "mimetype": "text/x-python",
   "name": "python",
   "nbconvert_exporter": "python",
   "pygments_lexer": "ipython3",
   "version": "3.6.5"
  }
 },
 "nbformat": 4,
 "nbformat_minor": 2
}
