{
 "cells": [
  {
   "cell_type": "code",
   "execution_count": 1,
   "metadata": {},
   "outputs": [],
   "source": [
    "#meta 5/31/2022 SARIMAX: Introduction ($note: together with .pdf)\n",
    "#This notebook replicates examples from the Stata ARIMA time series estimation and postestimation documentation.\n",
    "#refer to src https://www.statsmodels.org/dev/examples/notebooks/generated/statespace_sarimax_stata.html\n",
    "\n",
    "#original doc @ references_original/Stata\n",
    "#refer to http://www.stata.com/manuals13/tsarima.pdf or https://www.stata.com/features/time-series/ts-arima.pdf\n",
    "\n",
    "\n",
    "#history\n",
    "# 5/31/2022 Statsmodels documentation\n",
    "#      Replicated nb, goes together with documenation .pdf\n",
    "\n",
    "\n",
    "#References: a good place to start\n",
    "#refer to https://www.statsmodels.org/dev/examples/index.html \n"
   ]
  },
  {
   "cell_type": "code",
   "execution_count": 2,
   "metadata": {},
   "outputs": [],
   "source": [
    "import numpy as np\n",
    "import pandas as pd\n",
    "from datetime import datetime\n",
    "import requests\n",
    "from io import BytesIO\n",
    "%matplotlib inline\n",
    "import matplotlib.pyplot as plt\n",
    "# Register converters to avoid warnings\n",
    "pd.plotting.register_matplotlib_converters()\n",
    "plt.rc(\"figure\", figsize=(16,8))\n",
    "plt.rc(\"font\", size=14)\n",
    "\n",
    "#from scipy.stats import norm\n",
    "import statsmodels.api as sm\n"
   ]
  },
  {
   "cell_type": "markdown",
   "metadata": {},
   "source": [
    "# SARIMAX: Introduction\n",
    "This notebook replicates examples from the Stata ARIMA time series estimation and postestimation documentation.  \n",
    "$note: together with .pdf\n",
    "\n",
    "\n",
    "## 1. First, we replicate the four estimation examples\n",
    "http://www.stata.com/manuals13/tsarima.pdf\n",
    "\n",
    "1. `ARIMA(1,1,1)` model on the U.S. Wholesale Price Index (WPI) dataset.\n",
    "\n",
    "2. Variation of example 1 which adds an `MA(4)` term to the `ARIMA(1,1,1)` specification to allow for an additive seasonal effect.\n",
    "\n",
    "3. `ARIMA(2,1,0) x (1,1,0,12)` model of monthly airline data. This example allows a multiplicative seasonal effect.\n",
    "\n",
    "4. `ARMA(1,1)` model with exogenous regressors; describes consumption as an autoregressive process on which also the money supply is assumed to be an explanatory variable.\n",
    "\n",
    "## 2. Second, we demonstrate postestimation capabilities \n",
    "to replicate http://www.stata.com/manuals13/tsarimapostestimation.pdf. The model from example 4 is used to demonstrate:\n",
    "\n",
    "1. One-step-ahead in-sample prediction\n",
    "\n",
    "2. n-step-ahead out-of-sample forecasting\n",
    "\n",
    "3. n-step-ahead in-sample dynamic prediction\n",
    "\n",
    "\n",
    "## 1. ARIMA Estimation\n",
    "### Example 1: Arima"
   ]
  },
  {
   "cell_type": "code",
   "execution_count": 3,
   "metadata": {},
   "outputs": [
    {
     "name": "stdout",
     "output_type": "stream",
     "text": [
      "(124, 3)\n",
      "wpi              float32\n",
      "t         datetime64[ns]\n",
      "ln_wpi           float32\n",
      "dtype: object\n"
     ]
    },
    {
     "data": {
      "text/html": [
       "<div>\n",
       "<style scoped>\n",
       "    .dataframe tbody tr th:only-of-type {\n",
       "        vertical-align: middle;\n",
       "    }\n",
       "\n",
       "    .dataframe tbody tr th {\n",
       "        vertical-align: top;\n",
       "    }\n",
       "\n",
       "    .dataframe thead th {\n",
       "        text-align: right;\n",
       "    }\n",
       "</style>\n",
       "<table border=\"1\" class=\"dataframe\">\n",
       "  <thead>\n",
       "    <tr style=\"text-align: right;\">\n",
       "      <th></th>\n",
       "      <th>wpi</th>\n",
       "      <th>t</th>\n",
       "      <th>ln_wpi</th>\n",
       "    </tr>\n",
       "    <tr>\n",
       "      <th>t</th>\n",
       "      <th></th>\n",
       "      <th></th>\n",
       "      <th></th>\n",
       "    </tr>\n",
       "  </thead>\n",
       "  <tbody>\n",
       "    <tr>\n",
       "      <th>1960-01-01</th>\n",
       "      <td>30.700001</td>\n",
       "      <td>1960-01-01</td>\n",
       "      <td>3.424263</td>\n",
       "    </tr>\n",
       "    <tr>\n",
       "      <th>1960-04-01</th>\n",
       "      <td>30.799999</td>\n",
       "      <td>1960-04-01</td>\n",
       "      <td>3.427515</td>\n",
       "    </tr>\n",
       "    <tr>\n",
       "      <th>1960-07-01</th>\n",
       "      <td>30.700001</td>\n",
       "      <td>1960-07-01</td>\n",
       "      <td>3.424263</td>\n",
       "    </tr>\n",
       "    <tr>\n",
       "      <th>1960-10-01</th>\n",
       "      <td>30.700001</td>\n",
       "      <td>1960-10-01</td>\n",
       "      <td>3.424263</td>\n",
       "    </tr>\n",
       "    <tr>\n",
       "      <th>1961-01-01</th>\n",
       "      <td>30.799999</td>\n",
       "      <td>1961-01-01</td>\n",
       "      <td>3.427515</td>\n",
       "    </tr>\n",
       "  </tbody>\n",
       "</table>\n",
       "</div>"
      ],
      "text/plain": [
       "                  wpi          t    ln_wpi\n",
       "t                                         \n",
       "1960-01-01  30.700001 1960-01-01  3.424263\n",
       "1960-04-01  30.799999 1960-04-01  3.427515\n",
       "1960-07-01  30.700001 1960-07-01  3.424263\n",
       "1960-10-01  30.700001 1960-10-01  3.424263\n",
       "1961-01-01  30.799999 1961-01-01  3.427515"
      ]
     },
     "execution_count": 3,
     "metadata": {},
     "output_type": "execute_result"
    }
   ],
   "source": [
    "#0. Load data\n",
    "# Dataset: Wholesale price index (WPI)\n",
    "wpi1 = requests.get('https://www.stata-press.com/data/r12/wpi1.dta').content\n",
    "\n",
    "#1. Prep data\n",
    "data = pd.read_stata(BytesIO(wpi1)) #class pandas.core.frame.DataFrame\n",
    "data.index = data.t\n",
    "# Set the frequency\n",
    "data.index.freq=\"QS-OCT\"\n",
    "\n",
    "#preview\n",
    "print(data.shape)\n",
    "print(data.dtypes)\n",
    "data.head()"
   ]
  },
  {
   "cell_type": "code",
   "execution_count": 4,
   "metadata": {},
   "outputs": [
    {
     "name": "stdout",
     "output_type": "stream",
     "text": [
      "                               SARIMAX Results                                \n",
      "==============================================================================\n",
      "Dep. Variable:                    wpi   No. Observations:                  124\n",
      "Model:               SARIMAX(1, 1, 1)   Log Likelihood                -135.351\n",
      "Date:                Tue, 31 May 2022   AIC                            278.703\n",
      "Time:                        16:50:07   BIC                            289.951\n",
      "Sample:                    01-01-1960   HQIC                           283.272\n",
      "                         - 10-01-1990                                         \n",
      "Covariance Type:                  opg                                         \n",
      "==============================================================================\n",
      "                 coef    std err          z      P>|z|      [0.025      0.975]\n",
      "------------------------------------------------------------------------------\n",
      "intercept      0.0943      0.068      1.389      0.165      -0.039       0.227\n",
      "ar.L1          0.8742      0.055     16.028      0.000       0.767       0.981\n",
      "ma.L1         -0.4120      0.100     -4.119      0.000      -0.608      -0.216\n",
      "sigma2         0.5257      0.053      9.849      0.000       0.421       0.630\n",
      "===================================================================================\n",
      "Ljung-Box (Q):                       37.12   Jarque-Bera (JB):                 9.78\n",
      "Prob(Q):                              0.60   Prob(JB):                         0.01\n",
      "Heteroskedasticity (H):              15.93   Skew:                             0.28\n",
      "Prob(H) (two-sided):                  0.00   Kurtosis:                         4.26\n",
      "===================================================================================\n",
      "\n",
      "Warnings:\n",
      "[1] Covariance matrix calculated using the outer product of gradients (complex-step).\n"
     ]
    }
   ],
   "source": [
    "#2. Fit the model\n",
    "mod = sm.tsa.statespace.SARIMAX(data['wpi'], trend='c', order=(1,1,1))\n",
    "res = mod.fit(disp=False)\n",
    "print(res.summary())"
   ]
  },
  {
   "cell_type": "markdown",
   "metadata": {},
   "source": [
    "### Example 2: Arima with additive seasonal effects"
   ]
  },
  {
   "cell_type": "code",
   "execution_count": 5,
   "metadata": {},
   "outputs": [
    {
     "name": "stdout",
     "output_type": "stream",
     "text": [
      "(124, 4)\n",
      "wpi                float32\n",
      "t           datetime64[ns]\n",
      "ln_wpi             float32\n",
      "D.ln_wpi           float32\n",
      "dtype: object\n"
     ]
    },
    {
     "data": {
      "text/html": [
       "<div>\n",
       "<style scoped>\n",
       "    .dataframe tbody tr th:only-of-type {\n",
       "        vertical-align: middle;\n",
       "    }\n",
       "\n",
       "    .dataframe tbody tr th {\n",
       "        vertical-align: top;\n",
       "    }\n",
       "\n",
       "    .dataframe thead th {\n",
       "        text-align: right;\n",
       "    }\n",
       "</style>\n",
       "<table border=\"1\" class=\"dataframe\">\n",
       "  <thead>\n",
       "    <tr style=\"text-align: right;\">\n",
       "      <th></th>\n",
       "      <th>wpi</th>\n",
       "      <th>t</th>\n",
       "      <th>ln_wpi</th>\n",
       "      <th>D.ln_wpi</th>\n",
       "    </tr>\n",
       "    <tr>\n",
       "      <th>t</th>\n",
       "      <th></th>\n",
       "      <th></th>\n",
       "      <th></th>\n",
       "      <th></th>\n",
       "    </tr>\n",
       "  </thead>\n",
       "  <tbody>\n",
       "    <tr>\n",
       "      <th>1960-01-01</th>\n",
       "      <td>30.700001</td>\n",
       "      <td>1960-01-01</td>\n",
       "      <td>3.424263</td>\n",
       "      <td>NaN</td>\n",
       "    </tr>\n",
       "    <tr>\n",
       "      <th>1960-04-01</th>\n",
       "      <td>30.799999</td>\n",
       "      <td>1960-04-01</td>\n",
       "      <td>3.427515</td>\n",
       "      <td>0.003252</td>\n",
       "    </tr>\n",
       "    <tr>\n",
       "      <th>1960-07-01</th>\n",
       "      <td>30.700001</td>\n",
       "      <td>1960-07-01</td>\n",
       "      <td>3.424263</td>\n",
       "      <td>-0.003252</td>\n",
       "    </tr>\n",
       "    <tr>\n",
       "      <th>1960-10-01</th>\n",
       "      <td>30.700001</td>\n",
       "      <td>1960-10-01</td>\n",
       "      <td>3.424263</td>\n",
       "      <td>0.000000</td>\n",
       "    </tr>\n",
       "    <tr>\n",
       "      <th>1961-01-01</th>\n",
       "      <td>30.799999</td>\n",
       "      <td>1961-01-01</td>\n",
       "      <td>3.427515</td>\n",
       "      <td>0.003252</td>\n",
       "    </tr>\n",
       "  </tbody>\n",
       "</table>\n",
       "</div>"
      ],
      "text/plain": [
       "                  wpi          t    ln_wpi  D.ln_wpi\n",
       "t                                                   \n",
       "1960-01-01  30.700001 1960-01-01  3.424263       NaN\n",
       "1960-04-01  30.799999 1960-04-01  3.427515  0.003252\n",
       "1960-07-01  30.700001 1960-07-01  3.424263 -0.003252\n",
       "1960-10-01  30.700001 1960-10-01  3.424263  0.000000\n",
       "1961-01-01  30.799999 1961-01-01  3.427515  0.003252"
      ]
     },
     "execution_count": 5,
     "metadata": {},
     "output_type": "execute_result"
    }
   ],
   "source": [
    "#1. Prep data\n",
    "#data['ln_wpi'] = np.log(data['wpi'])\n",
    "data['D.ln_wpi'] = data['ln_wpi'].diff()\n",
    "\n",
    "#preview\n",
    "print(data.shape)\n",
    "print(data.dtypes)\n",
    "data.head()"
   ]
  },
  {
   "cell_type": "code",
   "execution_count": 6,
   "metadata": {},
   "outputs": [
    {
     "data": {
      "image/png": "[encoded data removed]",
      "text/plain": [
       "<Figure size 1080x288 with 2 Axes>"
      ]
     },
     "metadata": {
      "needs_background": "light"
     },
     "output_type": "display_data"
    }
   ],
   "source": [
    "# Graph data\n",
    "fig, axes = plt.subplots(1, 2, figsize=(15,4))\n",
    "\n",
    "# Levels\n",
    "axes[0].plot(data.index._mpl_repr(), data['wpi'], '-')\n",
    "axes[0].set(title='US Wholesale Price Index')\n",
    "\n",
    "# Log difference\n",
    "axes[1].plot(data.index._mpl_repr(), data['D.ln_wpi'], '-')\n",
    "axes[1].hlines(0, data.index[0], data.index[-1], 'r')\n",
    "axes[1].set(title='US Wholesale Price Index - difference of logs');"
   ]
  },
  {
   "cell_type": "code",
   "execution_count": 7,
   "metadata": {},
   "outputs": [
    {
     "data": {
      "image/png": "[encoded data removed]",
      "text/plain": [
       "<Figure size 1080x288 with 2 Axes>"
      ]
     },
     "metadata": {
      "needs_background": "light"
     },
     "output_type": "display_data"
    }
   ],
   "source": [
    "# Graph data\n",
    "fig, axes = plt.subplots(1, 2, figsize=(15,4))\n",
    "\n",
    "fig = sm.graphics.tsa.plot_acf(data.iloc[1:]['D.ln_wpi'], lags=40, ax=axes[0])\n",
    "fig = sm.graphics.tsa.plot_pacf(data.iloc[1:]['D.ln_wpi'], lags=40, ax=axes[1])"
   ]
  },
  {
   "cell_type": "code",
   "execution_count": 8,
   "metadata": {},
   "outputs": [
    {
     "name": "stdout",
     "output_type": "stream",
     "text": [
      "                                 SARIMAX Results                                 \n",
      "=================================================================================\n",
      "Dep. Variable:                    ln_wpi   No. Observations:                  124\n",
      "Model:             SARIMAX(1, 1, [1, 4])   Log Likelihood                 386.033\n",
      "Date:                   Tue, 31 May 2022   AIC                           -762.067\n",
      "Time:                           16:50:09   BIC                           -748.006\n",
      "Sample:                       01-01-1960   HQIC                          -756.355\n",
      "                            - 10-01-1990                                         \n",
      "Covariance Type:                     opg                                         \n",
      "==============================================================================\n",
      "                 coef    std err          z      P>|z|      [0.025      0.975]\n",
      "------------------------------------------------------------------------------\n",
      "intercept      0.0024      0.002      1.481      0.139      -0.001       0.006\n",
      "ar.L1          0.7816      0.094      8.280      0.000       0.597       0.967\n",
      "ma.L1         -0.4003      0.126     -3.180      0.001      -0.647      -0.154\n",
      "ma.L4          0.3079      0.120      2.564      0.010       0.073       0.543\n",
      "sigma2         0.0001    9.8e-06     11.110      0.000    8.97e-05       0.000\n",
      "===================================================================================\n",
      "Ljung-Box (Q):                       30.01   Jarque-Bera (JB):                45.15\n",
      "Prob(Q):                              0.87   Prob(JB):                         0.00\n",
      "Heteroskedasticity (H):               2.58   Skew:                             0.29\n",
      "Prob(H) (two-sided):                  0.00   Kurtosis:                         5.91\n",
      "===================================================================================\n",
      "\n",
      "Warnings:\n",
      "[1] Covariance matrix calculated using the outer product of gradients (complex-step).\n"
     ]
    }
   ],
   "source": [
    "#2. Fit the model\n",
    "mod = sm.tsa.statespace.SARIMAX(data['ln_wpi'], trend='c', order=(1,1,(1,0,0,1)))\n",
    "res = mod.fit(disp=False)\n",
    "print(res.summary())"
   ]
  },
  {
   "cell_type": "markdown",
   "metadata": {},
   "source": [
    "### Example 3: Airline Model"
   ]
  },
  {
   "cell_type": "code",
   "execution_count": 9,
   "metadata": {},
   "outputs": [
    {
     "name": "stdout",
     "output_type": "stream",
     "text": [
      "(144, 4)\n",
      "air         int16\n",
      "time      float32\n",
      "t         float32\n",
      "ln_air    float32\n",
      "dtype: object\n"
     ]
    },
    {
     "data": {
      "text/html": [
       "<div>\n",
       "<style scoped>\n",
       "    .dataframe tbody tr th:only-of-type {\n",
       "        vertical-align: middle;\n",
       "    }\n",
       "\n",
       "    .dataframe tbody tr th {\n",
       "        vertical-align: top;\n",
       "    }\n",
       "\n",
       "    .dataframe thead th {\n",
       "        text-align: right;\n",
       "    }\n",
       "</style>\n",
       "<table border=\"1\" class=\"dataframe\">\n",
       "  <thead>\n",
       "    <tr style=\"text-align: right;\">\n",
       "      <th></th>\n",
       "      <th>air</th>\n",
       "      <th>time</th>\n",
       "      <th>t</th>\n",
       "      <th>ln_air</th>\n",
       "    </tr>\n",
       "  </thead>\n",
       "  <tbody>\n",
       "    <tr>\n",
       "      <th>1949-01-01</th>\n",
       "      <td>112</td>\n",
       "      <td>1949.000000</td>\n",
       "      <td>1.0</td>\n",
       "      <td>4.718499</td>\n",
       "    </tr>\n",
       "    <tr>\n",
       "      <th>1949-02-01</th>\n",
       "      <td>118</td>\n",
       "      <td>1949.083374</td>\n",
       "      <td>2.0</td>\n",
       "      <td>4.770685</td>\n",
       "    </tr>\n",
       "    <tr>\n",
       "      <th>1949-03-01</th>\n",
       "      <td>132</td>\n",
       "      <td>1949.166626</td>\n",
       "      <td>3.0</td>\n",
       "      <td>4.882802</td>\n",
       "    </tr>\n",
       "    <tr>\n",
       "      <th>1949-04-01</th>\n",
       "      <td>129</td>\n",
       "      <td>1949.250000</td>\n",
       "      <td>4.0</td>\n",
       "      <td>4.859812</td>\n",
       "    </tr>\n",
       "    <tr>\n",
       "      <th>1949-05-01</th>\n",
       "      <td>121</td>\n",
       "      <td>1949.333374</td>\n",
       "      <td>5.0</td>\n",
       "      <td>4.795791</td>\n",
       "    </tr>\n",
       "  </tbody>\n",
       "</table>\n",
       "</div>"
      ],
      "text/plain": [
       "            air         time    t    ln_air\n",
       "1949-01-01  112  1949.000000  1.0  4.718499\n",
       "1949-02-01  118  1949.083374  2.0  4.770685\n",
       "1949-03-01  132  1949.166626  3.0  4.882802\n",
       "1949-04-01  129  1949.250000  4.0  4.859812\n",
       "1949-05-01  121  1949.333374  5.0  4.795791"
      ]
     },
     "execution_count": 9,
     "metadata": {},
     "output_type": "execute_result"
    }
   ],
   "source": [
    "#0. Load data\n",
    "#Dataset\n",
    "air2 = requests.get('https://www.stata-press.com/data/r12/air2.dta').content\n",
    "\n",
    "#1. Prep data\n",
    "data = pd.read_stata(BytesIO(air2))\n",
    "data.index = pd.date_range(start=datetime(data.time[0], 1, 1), periods=len(data), freq='MS')\n",
    "data['ln_air'] = np.log(data['air'])\n",
    "\n",
    "#preview\n",
    "print(data.shape)\n",
    "print(data.dtypes)\n",
    "data.head()"
   ]
  },
  {
   "cell_type": "code",
   "execution_count": 10,
   "metadata": {},
   "outputs": [
    {
     "name": "stdout",
     "output_type": "stream",
     "text": [
      "                                     SARIMAX Results                                      \n",
      "==========================================================================================\n",
      "Dep. Variable:                      D.DS12.ln_air   No. Observations:                  131\n",
      "Model:             SARIMAX(2, 0, 0)x(1, 0, 0, 12)   Log Likelihood                 240.821\n",
      "Date:                            Tue, 31 May 2022   AIC                           -473.643\n",
      "Time:                                    16:50:10   BIC                           -462.142\n",
      "Sample:                                02-01-1950   HQIC                          -468.970\n",
      "                                     - 12-01-1960                                         \n",
      "Covariance Type:                              opg                                         \n",
      "==============================================================================\n",
      "                 coef    std err          z      P>|z|      [0.025      0.975]\n",
      "------------------------------------------------------------------------------\n",
      "ar.L1         -0.4057      0.080     -5.045      0.000      -0.563      -0.248\n",
      "ar.L2         -0.0799      0.099     -0.809      0.419      -0.274       0.114\n",
      "ar.S.L12      -0.4723      0.072     -6.592      0.000      -0.613      -0.332\n",
      "sigma2         0.0014      0.000      8.403      0.000       0.001       0.002\n",
      "===================================================================================\n",
      "Ljung-Box (Q):                       49.89   Jarque-Bera (JB):                 0.72\n",
      "Prob(Q):                              0.14   Prob(JB):                         0.70\n",
      "Heteroskedasticity (H):               0.54   Skew:                             0.14\n",
      "Prob(H) (two-sided):                  0.04   Kurtosis:                         3.23\n",
      "===================================================================================\n",
      "\n",
      "Warnings:\n",
      "[1] Covariance matrix calculated using the outer product of gradients (complex-step).\n"
     ]
    }
   ],
   "source": [
    "#2. Fit the model\n",
    "mod = sm.tsa.statespace.SARIMAX(data['ln_air'], order=(2,1,0), seasonal_order=(1,1,0,12), simple_differencing=True)\n",
    "res = mod.fit(disp=False)\n",
    "print(res.summary())"
   ]
  },
  {
   "cell_type": "markdown",
   "metadata": {},
   "source": [
    "### Example 4: ARMAX (Friedman)"
   ]
  },
  {
   "cell_type": "code",
   "execution_count": 11,
   "metadata": {},
   "outputs": [
    {
     "name": "stdout",
     "output_type": "stream",
     "text": [
      "(211, 5)\n",
      "m2                float32\n",
      "time       datetime64[ns]\n",
      "m1                float32\n",
      "consump           float32\n",
      "pc92              float32\n",
      "dtype: object\n"
     ]
    },
    {
     "data": {
      "text/html": [
       "<div>\n",
       "<style scoped>\n",
       "    .dataframe tbody tr th:only-of-type {\n",
       "        vertical-align: middle;\n",
       "    }\n",
       "\n",
       "    .dataframe tbody tr th {\n",
       "        vertical-align: top;\n",
       "    }\n",
       "\n",
       "    .dataframe thead th {\n",
       "        text-align: right;\n",
       "    }\n",
       "</style>\n",
       "<table border=\"1\" class=\"dataframe\">\n",
       "  <thead>\n",
       "    <tr style=\"text-align: right;\">\n",
       "      <th></th>\n",
       "      <th>m2</th>\n",
       "      <th>time</th>\n",
       "      <th>m1</th>\n",
       "      <th>consump</th>\n",
       "      <th>pc92</th>\n",
       "    </tr>\n",
       "    <tr>\n",
       "      <th>time</th>\n",
       "      <th></th>\n",
       "      <th></th>\n",
       "      <th></th>\n",
       "      <th></th>\n",
       "      <th></th>\n",
       "    </tr>\n",
       "  </thead>\n",
       "  <tbody>\n",
       "    <tr>\n",
       "      <th>1946-01-01</th>\n",
       "      <td>NaN</td>\n",
       "      <td>1946-01-01</td>\n",
       "      <td>NaN</td>\n",
       "      <td>134.899994</td>\n",
       "      <td>NaN</td>\n",
       "    </tr>\n",
       "    <tr>\n",
       "      <th>1946-04-01</th>\n",
       "      <td>NaN</td>\n",
       "      <td>1946-04-01</td>\n",
       "      <td>NaN</td>\n",
       "      <td>140.100006</td>\n",
       "      <td>NaN</td>\n",
       "    </tr>\n",
       "    <tr>\n",
       "      <th>1946-07-01</th>\n",
       "      <td>NaN</td>\n",
       "      <td>1946-07-01</td>\n",
       "      <td>NaN</td>\n",
       "      <td>148.899994</td>\n",
       "      <td>NaN</td>\n",
       "    </tr>\n",
       "    <tr>\n",
       "      <th>1946-10-01</th>\n",
       "      <td>NaN</td>\n",
       "      <td>1946-10-01</td>\n",
       "      <td>NaN</td>\n",
       "      <td>153.199997</td>\n",
       "      <td>NaN</td>\n",
       "    </tr>\n",
       "    <tr>\n",
       "      <th>1947-01-01</th>\n",
       "      <td>NaN</td>\n",
       "      <td>1947-01-01</td>\n",
       "      <td>NaN</td>\n",
       "      <td>156.600006</td>\n",
       "      <td>912.099976</td>\n",
       "    </tr>\n",
       "  </tbody>\n",
       "</table>\n",
       "</div>"
      ],
      "text/plain": [
       "            m2       time  m1     consump        pc92\n",
       "time                                                 \n",
       "1946-01-01 NaN 1946-01-01 NaN  134.899994         NaN\n",
       "1946-04-01 NaN 1946-04-01 NaN  140.100006         NaN\n",
       "1946-07-01 NaN 1946-07-01 NaN  148.899994         NaN\n",
       "1946-10-01 NaN 1946-10-01 NaN  153.199997         NaN\n",
       "1947-01-01 NaN 1947-01-01 NaN  156.600006  912.099976"
      ]
     },
     "execution_count": 11,
     "metadata": {},
     "output_type": "execute_result"
    }
   ],
   "source": [
    "#0. Load data\n",
    "# Dataset\n",
    "friedman2 = requests.get('https://www.stata-press.com/data/r12/friedman2.dta').content\n",
    "\n",
    "#1. Prep data\n",
    "data = pd.read_stata(BytesIO(friedman2))\n",
    "data.index = data.time\n",
    "data.index.freq = \"QS-OCT\"\n",
    "\n",
    "# Variables\n",
    "endog = data.loc['1959':'1981', 'consump']\n",
    "exog = sm.add_constant(data.loc['1959':'1981', 'm2'])\n",
    "\n",
    "#preview\n",
    "print(data.shape)\n",
    "print(data.dtypes)\n",
    "data.head()"
   ]
  },
  {
   "cell_type": "code",
   "execution_count": 12,
   "metadata": {},
   "outputs": [
    {
     "name": "stdout",
     "output_type": "stream",
     "text": [
      "                               SARIMAX Results                                \n",
      "==============================================================================\n",
      "Dep. Variable:                consump   No. Observations:                   92\n",
      "Model:               SARIMAX(1, 0, 1)   Log Likelihood                -340.508\n",
      "Date:                Tue, 31 May 2022   AIC                            691.015\n",
      "Time:                        16:50:11   BIC                            703.624\n",
      "Sample:                    01-01-1959   HQIC                           696.105\n",
      "                         - 10-01-1981                                         \n",
      "Covariance Type:                  opg                                         \n",
      "==============================================================================\n",
      "                 coef    std err          z      P>|z|      [0.025      0.975]\n",
      "------------------------------------------------------------------------------\n",
      "const        -36.0429     56.698     -0.636      0.525    -147.168      75.082\n",
      "m2             1.1220      0.036     30.801      0.000       1.051       1.193\n",
      "ar.L1          0.9349      0.041     22.716      0.000       0.854       1.016\n",
      "ma.L1          0.3091      0.089      3.487      0.000       0.135       0.483\n",
      "sigma2        93.2572     10.889      8.565      0.000      71.916     114.599\n",
      "===================================================================================\n",
      "Ljung-Box (Q):                       38.72   Jarque-Bera (JB):                23.50\n",
      "Prob(Q):                              0.53   Prob(JB):                         0.00\n",
      "Heteroskedasticity (H):              22.51   Skew:                             0.17\n",
      "Prob(H) (two-sided):                  0.00   Kurtosis:                         5.45\n",
      "===================================================================================\n",
      "\n",
      "Warnings:\n",
      "[1] Covariance matrix calculated using the outer product of gradients (complex-step).\n"
     ]
    }
   ],
   "source": [
    "#2. Fit the model\n",
    "mod = sm.tsa.statespace.SARIMAX(endog, exog, order=(1,0,1))\n",
    "res = mod.fit(disp=False)\n",
    "print(res.summary())"
   ]
  },
  {
   "cell_type": "markdown",
   "metadata": {},
   "source": [
    "## 2. ARIMA Postestimation\n",
    "### Example 1 - Dynamic Forecasting"
   ]
  },
  {
   "cell_type": "code",
   "execution_count": 13,
   "metadata": {},
   "outputs": [
    {
     "name": "stdout",
     "output_type": "stream",
     "text": [
      "(144, 5)\n",
      "m2                float32\n",
      "time       datetime64[ns]\n",
      "m1                float32\n",
      "consump           float32\n",
      "pc92              float32\n",
      "dtype: object\n"
     ]
    },
    {
     "data": {
      "text/html": [
       "<div>\n",
       "<style scoped>\n",
       "    .dataframe tbody tr th:only-of-type {\n",
       "        vertical-align: middle;\n",
       "    }\n",
       "\n",
       "    .dataframe tbody tr th {\n",
       "        vertical-align: top;\n",
       "    }\n",
       "\n",
       "    .dataframe thead th {\n",
       "        text-align: right;\n",
       "    }\n",
       "</style>\n",
       "<table border=\"1\" class=\"dataframe\">\n",
       "  <thead>\n",
       "    <tr style=\"text-align: right;\">\n",
       "      <th></th>\n",
       "      <th>m2</th>\n",
       "      <th>time</th>\n",
       "      <th>m1</th>\n",
       "      <th>consump</th>\n",
       "      <th>pc92</th>\n",
       "    </tr>\n",
       "    <tr>\n",
       "      <th>time</th>\n",
       "      <th></th>\n",
       "      <th></th>\n",
       "      <th></th>\n",
       "      <th></th>\n",
       "      <th></th>\n",
       "    </tr>\n",
       "  </thead>\n",
       "  <tbody>\n",
       "    <tr>\n",
       "      <th>1946-01-01</th>\n",
       "      <td>NaN</td>\n",
       "      <td>1946-01-01</td>\n",
       "      <td>NaN</td>\n",
       "      <td>134.899994</td>\n",
       "      <td>NaN</td>\n",
       "    </tr>\n",
       "    <tr>\n",
       "      <th>1946-04-01</th>\n",
       "      <td>NaN</td>\n",
       "      <td>1946-04-01</td>\n",
       "      <td>NaN</td>\n",
       "      <td>140.100006</td>\n",
       "      <td>NaN</td>\n",
       "    </tr>\n",
       "    <tr>\n",
       "      <th>1946-07-01</th>\n",
       "      <td>NaN</td>\n",
       "      <td>1946-07-01</td>\n",
       "      <td>NaN</td>\n",
       "      <td>148.899994</td>\n",
       "      <td>NaN</td>\n",
       "    </tr>\n",
       "    <tr>\n",
       "      <th>1946-10-01</th>\n",
       "      <td>NaN</td>\n",
       "      <td>1946-10-01</td>\n",
       "      <td>NaN</td>\n",
       "      <td>153.199997</td>\n",
       "      <td>NaN</td>\n",
       "    </tr>\n",
       "    <tr>\n",
       "      <th>1947-01-01</th>\n",
       "      <td>NaN</td>\n",
       "      <td>1947-01-01</td>\n",
       "      <td>NaN</td>\n",
       "      <td>156.600006</td>\n",
       "      <td>912.099976</td>\n",
       "    </tr>\n",
       "  </tbody>\n",
       "</table>\n",
       "</div>"
      ],
      "text/plain": [
       "            m2       time  m1     consump        pc92\n",
       "time                                                 \n",
       "1946-01-01 NaN 1946-01-01 NaN  134.899994         NaN\n",
       "1946-04-01 NaN 1946-04-01 NaN  140.100006         NaN\n",
       "1946-07-01 NaN 1946-07-01 NaN  148.899994         NaN\n",
       "1946-10-01 NaN 1946-10-01 NaN  153.199997         NaN\n",
       "1947-01-01 NaN 1947-01-01 NaN  156.600006  912.099976"
      ]
     },
     "execution_count": 13,
     "metadata": {},
     "output_type": "execute_result"
    }
   ],
   "source": [
    "#1. Prep data\n",
    "raw = pd.read_stata(BytesIO(friedman2))\n",
    "raw.index = raw.time\n",
    "raw.index.freq = \"QS-OCT\"\n",
    "data = raw.loc[:'1981']\n",
    "\n",
    "# Variables\n",
    "endog = data.loc['1959':, 'consump']\n",
    "exog = sm.add_constant(data.loc['1959':, 'm2'])\n",
    "nobs = endog.shape[0]\n",
    "\n",
    "#preview\n",
    "print(data.shape)\n",
    "print(data.dtypes)\n",
    "data.head()"
   ]
  },
  {
   "cell_type": "code",
   "execution_count": 14,
   "metadata": {},
   "outputs": [
    {
     "name": "stdout",
     "output_type": "stream",
     "text": [
      "                               SARIMAX Results                                \n",
      "==============================================================================\n",
      "Dep. Variable:                consump   No. Observations:                   77\n",
      "Model:               SARIMAX(1, 0, 1)   Log Likelihood                -243.316\n",
      "Date:                Tue, 31 May 2022   AIC                            496.633\n",
      "Time:                        16:50:11   BIC                            508.352\n",
      "Sample:                    01-01-1959   HQIC                           501.320\n",
      "                         - 01-01-1978                                         \n",
      "Covariance Type:                  opg                                         \n",
      "==============================================================================\n",
      "                 coef    std err          z      P>|z|      [0.025      0.975]\n",
      "------------------------------------------------------------------------------\n",
      "const          0.6773     18.491      0.037      0.971     -35.564      36.919\n",
      "m2             1.0379      0.021     50.331      0.000       0.997       1.078\n",
      "ar.L1          0.8775      0.059     14.859      0.000       0.762       0.993\n",
      "ma.L1          0.2771      0.108      2.572      0.010       0.066       0.488\n",
      "sigma2        31.6972      4.683      6.769      0.000      22.519      40.875\n",
      "===================================================================================\n",
      "Ljung-Box (Q):                       46.77   Jarque-Bera (JB):                 6.05\n",
      "Prob(Q):                              0.21   Prob(JB):                         0.05\n",
      "Heteroskedasticity (H):               6.09   Skew:                             0.57\n",
      "Prob(H) (two-sided):                  0.00   Kurtosis:                         3.76\n",
      "===================================================================================\n",
      "\n",
      "Warnings:\n",
      "[1] Covariance matrix calculated using the outer product of gradients (complex-step).\n"
     ]
    }
   ],
   "source": [
    "#2. Fit the model\n",
    "mod = sm.tsa.statespace.SARIMAX(endog.loc[:'1978-01-01'], exog=exog.loc[:'1978-01-01'], order=(1,0,1))\n",
    "fit_res = mod.fit(disp=False, maxiter=250)\n",
    "print(fit_res.summary())"
   ]
  },
  {
   "cell_type": "markdown",
   "metadata": {},
   "source": [
    "##### Post Estimation\n",
    "Get results for the full dataset but using the estimated parameters (on a subset of the data)."
   ]
  },
  {
   "cell_type": "code",
   "execution_count": 15,
   "metadata": {},
   "outputs": [],
   "source": [
    "#3. Predict\n",
    "#get results for the full dataset but using the estimated parameters (on a subset of the data).\n",
    "mod = sm.tsa.statespace.SARIMAX(endog, exog=exog, order=(1,0,1))\n",
    "res = mod.filter(fit_res.params)"
   ]
  },
  {
   "cell_type": "markdown",
   "metadata": {},
   "source": [
    "##### - in-sample predictions\n",
    "The `predict` command is first applied here to get in-sample predictions. We use the `full_results=True` argument to allow us to calculate confidence intervals (the default output of predict is just the predicted values).\n",
    "\n",
    "With no other arguments, `predict` returns the one-step-ahead in-sample predictions for the entire sample."
   ]
  },
  {
   "cell_type": "code",
   "execution_count": 16,
   "metadata": {},
   "outputs": [],
   "source": [
    "# In-sample one-step-ahead predictions\n",
    "predict = res.get_prediction()\n",
    "predict_ci = predict.conf_int()"
   ]
  },
  {
   "cell_type": "markdown",
   "metadata": {},
   "source": [
    "We can also get dynamic predictions. One-step-ahead prediction uses the true values of the endogenous values at each step to predict the next in-sample value. Dynamic predictions use one-step-ahead prediction up to some point in the dataset (specified by the `dynamic` argument); after that, the previous predicted endogenous values are used in place of the true endogenous values for each new predicted element.\n",
    "\n",
    "The dynamic argument is specified to be an offset relative to the `start` argument. If `start` is not specified, it is assumed to be `0`."
   ]
  },
  {
   "cell_type": "code",
   "execution_count": 17,
   "metadata": {},
   "outputs": [],
   "source": [
    "# Dynamic predictions: starting in the first quarter of 1978\n",
    "predict_dy = res.get_prediction(dynamic='1978-01-01')\n",
    "predict_dy_ci = predict_dy.conf_int()"
   ]
  },
  {
   "cell_type": "code",
   "execution_count": 18,
   "metadata": {},
   "outputs": [
    {
     "data": {
      "image/png": "[encoded data removed]",
      "text/plain": [
       "<Figure size 648x288 with 1 Axes>"
      ]
     },
     "metadata": {
      "needs_background": "light"
     },
     "output_type": "display_data"
    }
   ],
   "source": [
    "# graph the one-step-ahead and dynamic predictions (and the corresponding confidence intervals) to see their relative performance. \n",
    "#Notice that up to the point where dynamic prediction begins (1978:Q1), the two are the same\n",
    "\n",
    "# Graph\n",
    "fig, ax = plt.subplots(figsize=(9,4))\n",
    "npre = 4\n",
    "ax.set(title='Personal consumption', xlabel='Date', ylabel='Billions of dollars')\n",
    "\n",
    "# Plot data points\n",
    "data.loc['1977-07-01':, 'consump'].plot(ax=ax, style='o', label='Observed')\n",
    "\n",
    "# Plot predictions\n",
    "predict.predicted_mean.loc['1977-07-01':].plot(ax=ax, style='r--', label='One-step-ahead forecast')\n",
    "ci = predict_ci.loc['1977-07-01':]\n",
    "ax.fill_between(ci.index, ci.iloc[:,0], ci.iloc[:,1], color='r', alpha=0.1)\n",
    "predict_dy.predicted_mean.loc['1977-07-01':].plot(ax=ax, style='g', label='Dynamic forecast (1978)')\n",
    "ci = predict_dy_ci.loc['1977-07-01':]\n",
    "ax.fill_between(ci.index, ci.iloc[:,0], ci.iloc[:,1], color='g', alpha=0.1)\n",
    "\n",
    "legend = ax.legend(loc='lower right')"
   ]
  },
  {
   "cell_type": "code",
   "execution_count": 19,
   "metadata": {},
   "outputs": [
    {
     "data": {
      "image/png": "[encoded data removed]",
      "text/plain": [
       "<Figure size 648x288 with 1 Axes>"
      ]
     },
     "metadata": {
      "needs_background": "light"
     },
     "output_type": "display_data"
    }
   ],
   "source": [
    "#graph the prediction error\n",
    "#It is obvious that, as one would suspect, one-step-ahead prediction is considerably better.\n",
    "# Prediction error\n",
    "\n",
    "# Graph\n",
    "fig, ax = plt.subplots(figsize=(9,4))\n",
    "npre = 4\n",
    "ax.set(title='Forecast error', xlabel='Date', ylabel='Forecast - Actual')\n",
    "\n",
    "# In-sample one-step-ahead predictions and 95% confidence intervals\n",
    "predict_error = predict.predicted_mean - endog\n",
    "predict_error.loc['1977-10-01':].plot(ax=ax, label='One-step-ahead forecast')\n",
    "ci = predict_ci.loc['1977-10-01':].copy()\n",
    "ci.iloc[:,0] -= endog.loc['1977-10-01':]\n",
    "ci.iloc[:,1] -= endog.loc['1977-10-01':]\n",
    "ax.fill_between(ci.index, ci.iloc[:,0], ci.iloc[:,1], alpha=0.1)\n",
    "\n",
    "# Dynamic predictions and 95% confidence intervals\n",
    "predict_dy_error = predict_dy.predicted_mean - endog\n",
    "predict_dy_error.loc['1977-10-01':].plot(ax=ax, style='r', label='Dynamic forecast (1978)')\n",
    "ci = predict_dy_ci.loc['1977-10-01':].copy()\n",
    "ci.iloc[:,0] -= endog.loc['1977-10-01':]\n",
    "ci.iloc[:,1] -= endog.loc['1977-10-01':]\n",
    "ax.fill_between(ci.index, ci.iloc[:,0], ci.iloc[:,1], color='r', alpha=0.1)\n",
    "\n",
    "legend = ax.legend(loc='lower left');\n",
    "legend.get_frame().set_facecolor('w')"
   ]
  },
  {
   "cell_type": "code",
   "execution_count": null,
   "metadata": {},
   "outputs": [],
   "source": []
  }
 ],
 "metadata": {
  "kernelspec": {
   "display_name": "Python 3",
   "language": "python",
   "name": "python3"
  },
  "language_info": {
   "codemirror_mode": {
    "name": "ipython",
    "version": 3
   },
   "file_extension": ".py",
   "mimetype": "text/x-python",
   "name": "python",
   "nbconvert_exporter": "python",
   "pygments_lexer": "ipython3",
   "version": "3.7.4"
  }
 },
 "nbformat": 4,
 "nbformat_minor": 4
}
