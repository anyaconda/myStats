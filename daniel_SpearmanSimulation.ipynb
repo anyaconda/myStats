{
  "nbformat": 4,
  "nbformat_minor": 5,
  "metadata": {
    "kernelspec": {
      "display_name": "numerai",
      "language": "python",
      "name": "numerai"
    },
    "language_info": {
      "codemirror_mode": {
        "name": "ipython",
        "version": 3
      },
      "file_extension": ".py",
      "mimetype": "text/x-python",
      "name": "python",
      "nbconvert_exporter": "python",
      "pygments_lexer": "ipython3",
      "version": "3.9.2"
    },
    "colab": {
      "name": "daniel_SpearmanSimulation.ipynb",
      "provenance": [],
      "include_colab_link": true
    }
  },
  "cells": [
    {
      "cell_type": "markdown",
      "metadata": {
        "id": "view-in-github",
        "colab_type": "text"
      },
      "source": [
        "<a href=\"https://colab.research.google.com/github/anyaconda/myStats/blob/master/daniel_SpearmanSimulation.ipynb\" target=\"_parent\"><img src=\"https://colab.research.google.com/assets/colab-badge.svg\" alt=\"Open In Colab\"/></a>"
      ]
    },
    {
      "cell_type": "markdown",
      "metadata": {
        "id": "compatible-mexico"
      },
      "source": [
        "# Spearman Simulation"
      ],
      "id": "compatible-mexico"
    },
    {
      "cell_type": "code",
      "metadata": {
        "id": "different-framing"
      },
      "source": [
        "import numpy as np\n",
        "import pandas as pd\n",
        "from matplotlib import pyplot as plt\n",
        "from scipy.stats import spearmanr"
      ],
      "id": "different-framing",
      "execution_count": 1,
      "outputs": []
    },
    {
      "cell_type": "code",
      "metadata": {
        "id": "generous-certificate",
        "colab": {
          "base_uri": "https://localhost:8080/"
        },
        "outputId": "bd5d4639-901d-4dbb-f61e-ea1e8be26edc"
      },
      "source": [
        "true_target = np.arange(0,5000) / 4999\n",
        "label = []\n",
        "\n",
        "dist = {0:250,\n",
        "       0.25:1000,\n",
        "       0.5:2500,\n",
        "       0.75:1000,\n",
        "       1:250}\n",
        "\n",
        "for lab, rep in dist.items():\n",
        "    label.extend([lab]*rep)\n",
        "label = np.array(label)\n",
        "label.min(), label.max(), label.mean()"
      ],
      "id": "generous-certificate",
      "execution_count": 2,
      "outputs": [
        {
          "output_type": "execute_result",
          "data": {
            "text/plain": [
              "(0.0, 1.0, 0.5)"
            ]
          },
          "metadata": {
            "tags": []
          },
          "execution_count": 2
        }
      ]
    },
    {
      "cell_type": "code",
      "metadata": {
        "id": "light-smith",
        "colab": {
          "base_uri": "https://localhost:8080/",
          "height": 295
        },
        "outputId": "765c6574-6758-4a02-ee23-354c0ff6b5cd"
      },
      "source": [
        "plt.hist(label, bins=5, rwidth=0.9)\n",
        "plt.xlabel('label')\n",
        "plt.ylabel('count')\n",
        "plt.title('distribution of labels')\n",
        "plt.grid(axis='y', alpha=0.5)"
      ],
      "id": "light-smith",
      "execution_count": 3,
      "outputs": [
        {
          "output_type": "display_data",
          "data": {
            "image/png": "[encoded data removed]",
            "text/plain": [
              "<Figure size 432x288 with 1 Axes>"
            ]
          },
          "metadata": {
            "tags": [],
            "needs_background": "light"
          }
        }
      ]
    },
    {
      "cell_type": "markdown",
      "metadata": {
        "id": "racial-galaxy"
      },
      "source": [
        "# Some Simple Test Cases\n",
        "## Case 1: Exactly correct predictions\n",
        "This is just to make sure the most obvious case works as anticipated."
      ],
      "id": "racial-galaxy"
    },
    {
      "cell_type": "code",
      "metadata": {
        "id": "plain-netscape",
        "colab": {
          "base_uri": "https://localhost:8080/"
        },
        "outputId": "92933b0a-9eca-4fa9-ad83-715c6567c21e"
      },
      "source": [
        "preds = np.arange(0,5000) / 4999\n",
        "spearmanr(preds, true_target)"
      ],
      "id": "plain-netscape",
      "execution_count": 4,
      "outputs": [
        {
          "output_type": "execute_result",
          "data": {
            "text/plain": [
              "SpearmanrResult(correlation=0.9999999999999999, pvalue=0.0)"
            ]
          },
          "metadata": {
            "tags": []
          },
          "execution_count": 4
        }
      ]
    },
    {
      "cell_type": "markdown",
      "metadata": {
        "id": "civic-sailing"
      },
      "source": [
        "## Case 2: Randomized\n",
        "Another mostly-obvious case. What degree of ordering could we expect by shuffling our predictions?"
      ],
      "id": "civic-sailing"
    },
    {
      "cell_type": "code",
      "metadata": {
        "id": "reflected-beast"
      },
      "source": [
        "preds = np.arange(0,5000) / 4999\n",
        "shuffle_corr = []\n",
        "for i in range(5000):\n",
        "    np.random.shuffle(preds)\n",
        "    shuffle_corr.append(spearmanr(preds,true_target)[0])  \n",
        "    "
      ],
      "id": "reflected-beast",
      "execution_count": 5,
      "outputs": []
    },
    {
      "cell_type": "code",
      "metadata": {
        "id": "statistical-counter",
        "colab": {
          "base_uri": "https://localhost:8080/",
          "height": 295
        },
        "outputId": "fd089cdd-8e98-42d8-db51-e345084d2b90"
      },
      "source": [
        "shuffle_corr = np.array(shuffle_corr)\n",
        "plt.hist(shuffle_corr, bins=10, rwidth=0.9)\n",
        "plt.xlabel('correlation')\n",
        "plt.ylabel('count')\n",
        "plt.title('distribution of Spearman correlations after shuffling')\n",
        "plt.grid(axis='y', alpha=0.5)"
      ],
      "id": "statistical-counter",
      "execution_count": 6,
      "outputs": [
        {
          "output_type": "display_data",
          "data": {
            "image/png": "[encoded data removed]",
            "text/plain": [
              "<Figure size 432x288 with 1 Axes>"
            ]
          },
          "metadata": {
            "tags": [],
            "needs_background": "light"
          }
        }
      ]
    },
    {
      "cell_type": "markdown",
      "metadata": {
        "id": "subtle-hampshire"
      },
      "source": [
        "Now we have the simplest of baselines. The spearman correlation of an ordered array with itself is 1; the average spearman correlation of an ordered array with that same array randomly shuffled is zero.\n",
        "\n",
        "## Case 3: identical results by label\n",
        "\n",
        "What happens if we try to get the correlation with only five values? Basically, if the labels (0, 0.25, ..., 1) are the predictions?"
      ],
      "id": "subtle-hampshire"
    },
    {
      "cell_type": "code",
      "metadata": {
        "id": "olympic-virtue",
        "colab": {
          "base_uri": "https://localhost:8080/"
        },
        "outputId": "35e1a74b-bbb0-4cc6-85c7-8e7a01ddbe7a"
      },
      "source": [
        "preds = label\n",
        "spearmanr(preds, true_target)"
      ],
      "id": "olympic-virtue",
      "execution_count": 7,
      "outputs": [
        {
          "output_type": "execute_result",
          "data": {
            "text/plain": [
              "SpearmanrResult(correlation=0.9266876681762855, pvalue=0.0)"
            ]
          },
          "metadata": {
            "tags": []
          },
          "execution_count": 7
        }
      ]
    },
    {
      "cell_type": "markdown",
      "metadata": {
        "id": "opened-projection"
      },
      "source": [
        "Interesting -- still an extremely high correlation, but not exactly 1.\n",
        "\n",
        "Now the real question: what if the results *within each label* are shuffled? That is, if we correctly predict each label, but then within each label we randomly order the results? Let's construct a DataFrame to better visualize."
      ],
      "id": "opened-projection"
    },
    {
      "cell_type": "code",
      "metadata": {
        "id": "traditional-sending"
      },
      "source": [
        "labelcat = pd.Categorical(label)\n",
        "df = pd.DataFrame({'Label':labelcat, 'true_target':true_target, 'pred':np.zeros_like(true_target)})"
      ],
      "id": "traditional-sending",
      "execution_count": 8,
      "outputs": []
    },
    {
      "cell_type": "code",
      "metadata": {
        "id": "supported-somewhere"
      },
      "source": [
        "pred = []\n",
        "for label in df.Label.unique():\n",
        "    ordered = df.loc[df.Label==label, 'true_target']\n",
        "    shuffled = list(ordered)\n",
        "    np.random.shuffle(shuffled)\n",
        "    pred.extend(shuffled)"
      ],
      "id": "supported-somewhere",
      "execution_count": 9,
      "outputs": []
    },
    {
      "cell_type": "markdown",
      "metadata": {
        "id": "limited-split"
      },
      "source": [
        "The below test show that `pred` is not ordered, BUT that the preds in each category are lower than the preds in each subsequent category. (not comprehensive)"
      ],
      "id": "limited-split"
    },
    {
      "cell_type": "code",
      "metadata": {
        "id": "compatible-modern",
        "colab": {
          "base_uri": "https://localhost:8080/"
        },
        "outputId": "7bd8100d-dfa6-4520-a0f9-922f3b034590"
      },
      "source": [
        "all(pred[i] <= pred[i+1] for i in range(len(pred)-1)), np.all(pred[0:250] < pred[250:1250]), np.mean(pred[0:250]), np.mean(pred[4250:])"
      ],
      "id": "compatible-modern",
      "execution_count": 10,
      "outputs": [
        {
          "output_type": "execute_result",
          "data": {
            "text/plain": [
              "(False, True, 0.024904980996199238, 0.8912403814096151)"
            ]
          },
          "metadata": {
            "tags": []
          },
          "execution_count": 10
        }
      ]
    },
    {
      "cell_type": "markdown",
      "metadata": {
        "id": "lovely-discretion"
      },
      "source": [
        "Let's try this shuffling process a bunch of times and take the correlations."
      ],
      "id": "lovely-discretion"
    },
    {
      "cell_type": "code",
      "metadata": {
        "id": "afraid-easter"
      },
      "source": [
        "df = pd.DataFrame({'Label':labelcat, 'true_target':true_target})\n",
        "corrs = []\n",
        "for i in range(5000):\n",
        "    pred=[]\n",
        "    for label in df.Label.unique():\n",
        "        ordered = df.loc[df.Label==label, 'true_target']\n",
        "        shuffled = list(ordered)\n",
        "        np.random.shuffle(shuffled)\n",
        "        #np.flip(shuffled)\n",
        "        pred.extend(shuffled)\n",
        "    corrs.append(spearmanr(pred,true_target)[0])"
      ],
      "id": "afraid-easter",
      "execution_count": 11,
      "outputs": []
    },
    {
      "cell_type": "code",
      "metadata": {
        "id": "addressed-reward",
        "colab": {
          "base_uri": "https://localhost:8080/",
          "height": 310
        },
        "outputId": "826f7639-28f0-4f87-8ea8-0d7aa79586b0"
      },
      "source": [
        "group_shuffle_corr = np.array(corrs)\n",
        "plt.hist(group_shuffle_corr, bins=10, rwidth=0.9)\n",
        "plt.xlabel('correlation')\n",
        "plt.ylabel('count')\n",
        "plt.title('distribution of Spearman correlations after shuffling\\nwithin groups')\n",
        "plt.grid(axis='y', alpha=0.5)"
      ],
      "id": "addressed-reward",
      "execution_count": 12,
      "outputs": [
        {
          "output_type": "display_data",
          "data": {
            "image/png": "[encoded data removed]",
            "text/plain": [
              "<Figure size 432x288 with 1 Axes>"
            ]
          },
          "metadata": {
            "tags": [],
            "needs_background": "light"
          }
        }
      ]
    },
    {
      "cell_type": "code",
      "metadata": {
        "id": "respective-contrast",
        "colab": {
          "base_uri": "https://localhost:8080/"
        },
        "outputId": "c3d1b38d-69b6-4328-8cec-319e3170c980"
      },
      "source": [
        "np.mean(corrs)"
      ],
      "id": "respective-contrast",
      "execution_count": 13,
      "outputs": [
        {
          "output_type": "execute_result",
          "data": {
            "text/plain": [
              "0.8587622829337935"
            ]
          },
          "metadata": {
            "tags": []
          },
          "execution_count": 13
        }
      ]
    },
    {
      "cell_type": "markdown",
      "metadata": {
        "id": "1fRkWO9BjL3Z"
      },
      "source": [
        "# Using only Two Categories"
      ],
      "id": "1fRkWO9BjL3Z"
    },
    {
      "cell_type": "code",
      "metadata": {
        "id": "u28QM-0qjK8h",
        "colab": {
          "base_uri": "https://localhost:8080/"
        },
        "outputId": "362fb10b-a4bf-471e-e809-9724c3ceeaa2"
      },
      "source": [
        "true_target = np.arange(0,5000) / 4999\n",
        "label = []\n",
        "\n",
        "dist = {'low': 3500,\n",
        "        'high':1500}\n",
        "\n",
        "for lab, rep in dist.items():\n",
        "    label.extend([lab]*rep)\n",
        "label = np.array(label)\n",
        "label"
      ],
      "id": "u28QM-0qjK8h",
      "execution_count": 14,
      "outputs": [
        {
          "output_type": "execute_result",
          "data": {
            "text/plain": [
              "array(['low', 'low', 'low', ..., 'high', 'high', 'high'], dtype='<U4')"
            ]
          },
          "metadata": {
            "tags": []
          },
          "execution_count": 14
        }
      ]
    },
    {
      "cell_type": "code",
      "metadata": {
        "id": "mynNWEv0jb1Z"
      },
      "source": [
        "labelcat = pd.Categorical(label)\n",
        "df = pd.DataFrame({'Label':labelcat, 'true_target':true_target})\n",
        "corrs = []\n",
        "for i in range(5000):\n",
        "    pred=[]\n",
        "    for label in df.Label.unique():\n",
        "        ordered = df.loc[df.Label==label, 'true_target']\n",
        "        shuffled = list(ordered)\n",
        "        np.random.shuffle(shuffled)\n",
        "        #np.flip(shuffled)\n",
        "        pred.extend(shuffled)\n",
        "    corrs.append(spearmanr(pred,true_target)[0])"
      ],
      "id": "mynNWEv0jb1Z",
      "execution_count": 15,
      "outputs": []
    },
    {
      "cell_type": "code",
      "metadata": {
        "id": "T_11ycsUj4Gl",
        "colab": {
          "base_uri": "https://localhost:8080/",
          "height": 310
        },
        "outputId": "e2715a84-1b2a-4e75-eba4-b5c99f6fa249"
      },
      "source": [
        "group_shuffle_corr = np.array(corrs)\n",
        "plt.hist(group_shuffle_corr, bins=10, rwidth=0.9)\n",
        "plt.xlabel('correlation')\n",
        "plt.ylabel('count')\n",
        "plt.title('distribution of Spearman correlations after shuffling\\nwithin groups')\n",
        "plt.grid(axis='y', alpha=0.5)"
      ],
      "id": "T_11ycsUj4Gl",
      "execution_count": 16,
      "outputs": [
        {
          "output_type": "display_data",
          "data": {
            "image/png": "[encoded data removed]",
            "text/plain": [
              "<Figure size 432x288 with 1 Axes>"
            ]
          },
          "metadata": {
            "tags": [],
            "needs_background": "light"
          }
        }
      ]
    },
    {
      "cell_type": "code",
      "metadata": {
        "id": "Wh1n9PPEj-RJ",
        "colab": {
          "base_uri": "https://localhost:8080/"
        },
        "outputId": "0b52e3de-d454-4878-e4d5-8bacd8e83ec3"
      },
      "source": [
        "np.mean(group_shuffle_corr)"
      ],
      "id": "Wh1n9PPEj-RJ",
      "execution_count": 17,
      "outputs": [
        {
          "output_type": "execute_result",
          "data": {
            "text/plain": [
              "0.6298791695215156"
            ]
          },
          "metadata": {
            "tags": []
          },
          "execution_count": 17
        }
      ]
    },
    {
      "cell_type": "code",
      "metadata": {
        "id": "1i1J2Nj3kA9v"
      },
      "source": [
        ""
      ],
      "id": "1i1J2Nj3kA9v",
      "execution_count": 17,
      "outputs": []
    }
  ]
}